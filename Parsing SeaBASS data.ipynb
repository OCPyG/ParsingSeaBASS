{
 "cells": [
  {
   "cell_type": "markdown",
   "metadata": {},
   "source": [
    "### Parsing SeaBASS data from URL\n",
    "Amir asked me how to parse seabass data. Below is one approach, that I think is general enough.\n",
    "I use **requests** to get the data from a url\n",
    "I use **re** to form regex queries to get field names (optionally, units) and figure out when the data parsing shoud start.\n",
    "Data is read line by line and a dictionary (hash table) is populated with each datum appended to a list corresponding to fieldname key.\n",
    "*Optionally* the dictionary is loaded onto a **pandas** data which makes data manipulation much easier. I use 3.5 but I believe this should work fine in 2.7."
   ]
  },
  {
   "cell_type": "code",
   "execution_count": 1,
   "metadata": {
    "collapsed": true
   },
   "outputs": [],
   "source": [
    "import re\n",
    "import requests\n",
    "import pandas as pd # optional"
   ]
  },
  {
   "cell_type": "code",
   "execution_count": 2,
   "metadata": {
    "collapsed": true
   },
   "outputs": [],
   "source": [
    "url='http://seabass.gsfc.nasa.gov/seabass_archive/BIGELOW/BALCH/FERRY_00/2K/s000914w/main-s000914w.txt'"
   ]
  },
  {
   "cell_type": "code",
   "execution_count": 3,
   "metadata": {
    "collapsed": true
   },
   "outputs": [],
   "source": [
    "resp = requests.get(url)"
   ]
  },
  {
   "cell_type": "code",
   "execution_count": 4,
   "metadata": {
    "collapsed": true
   },
   "outputs": [],
   "source": [
    "stuff = resp.text.splitlines()"
   ]
  },
  {
   "cell_type": "code",
   "execution_count": 5,
   "metadata": {
    "collapsed": true
   },
   "outputs": [],
   "source": [
    "resp.close()"
   ]
  },
  {
   "cell_type": "code",
   "execution_count": 6,
   "metadata": {
    "collapsed": true
   },
   "outputs": [],
   "source": [
    "# Pre-compute some regex\n",
    "columns = re.compile('^/fields=(.+)') # to get field/column names\n",
    "units = re.compile('^/units=(.+)') # to get units -- optional\n",
    "endHeader = re.compile('^/end_header') # to know when to start storing data"
   ]
  },
  {
   "cell_type": "code",
   "execution_count": 7,
   "metadata": {
    "collapsed": false
   },
   "outputs": [],
   "source": [
    "noFields = True\n",
    "noUnits = True\n",
    "getData = False\n",
    "for line in stuff:\n",
    "    if noFields:\n",
    "        fieldStr = columns.findall(line)\n",
    "        if len(fieldStr)>0:\n",
    "            noFields = False\n",
    "            fieldList = fieldStr[0].split(',')\n",
    "            dataDict = dict.fromkeys(fieldList)\n",
    "            continue # nothing left to do with this line\n",
    "    if noUnits: # search for units in current line\n",
    "        unitsStr = units.findall(line)\n",
    "        if len(unitsStr) > 0:\n",
    "            noUnits = False\n",
    "            unitList = unitsStr[0].split(',')\n",
    "            continue # nothing left to do with this line\n",
    "    if not getData:\n",
    "        if endHeader.match(line):\n",
    "            getData = True\n",
    "    else:\n",
    "        dataList = line.split(' ')\n",
    "        for field,datum in zip(fieldList,dataList):\n",
    "            if not dataDict[field]:\n",
    "                dataDict[field] = []\n",
    "            dataDict[field].append(datum)"
   ]
  },
  {
   "cell_type": "code",
   "execution_count": 9,
   "metadata": {
    "collapsed": false
   },
   "outputs": [],
   "source": [
    "df = pd.DataFrame(dataDict,columns=fieldList)"
   ]
  },
  {
   "cell_type": "code",
   "execution_count": 10,
   "metadata": {
    "collapsed": false
   },
   "outputs": [
    {
     "data": {
      "text/html": [
       "<div>\n",
       "<table border=\"1\" class=\"dataframe\">\n",
       "  <thead>\n",
       "    <tr style=\"text-align: right;\">\n",
       "      <th></th>\n",
       "      <th>year</th>\n",
       "      <th>month</th>\n",
       "      <th>day</th>\n",
       "      <th>hour</th>\n",
       "      <th>minute</th>\n",
       "      <th>second</th>\n",
       "      <th>lat</th>\n",
       "      <th>lon</th>\n",
       "      <th>Wt</th>\n",
       "      <th>sal</th>\n",
       "      <th>...</th>\n",
       "      <th>lt683.9</th>\n",
       "      <th>lsky412.7</th>\n",
       "      <th>lsky444.2</th>\n",
       "      <th>lsky488.9</th>\n",
       "      <th>lsky510.7</th>\n",
       "      <th>lsky554.7</th>\n",
       "      <th>lsky671.1</th>\n",
       "      <th>lsky683.5</th>\n",
       "      <th>senz</th>\n",
       "      <th>relaz</th>\n",
       "    </tr>\n",
       "  </thead>\n",
       "  <tbody>\n",
       "    <tr>\n",
       "      <th>0</th>\n",
       "      <td>2000</td>\n",
       "      <td>9</td>\n",
       "      <td>14</td>\n",
       "      <td>14</td>\n",
       "      <td>6</td>\n",
       "      <td>58</td>\n",
       "      <td>43.77</td>\n",
       "      <td>-66.3495</td>\n",
       "      <td>13.2</td>\n",
       "      <td>31.88</td>\n",
       "      <td>...</td>\n",
       "      <td>7.20E-02</td>\n",
       "      <td>5.56E+00</td>\n",
       "      <td>4.82E+00</td>\n",
       "      <td>3.57E+00</td>\n",
       "      <td>2.91E+00</td>\n",
       "      <td>2.21E+00</td>\n",
       "      <td>9.20E-01</td>\n",
       "      <td>7.62E-01</td>\n",
       "      <td>140</td>\n",
       "      <td>119.27</td>\n",
       "    </tr>\n",
       "    <tr>\n",
       "      <th>1</th>\n",
       "      <td>2000</td>\n",
       "      <td>9</td>\n",
       "      <td>14</td>\n",
       "      <td>14</td>\n",
       "      <td>10</td>\n",
       "      <td>14</td>\n",
       "      <td>43.7681</td>\n",
       "      <td>-66.3727</td>\n",
       "      <td>13.7</td>\n",
       "      <td>32.23</td>\n",
       "      <td>...</td>\n",
       "      <td>7.03E-02</td>\n",
       "      <td>5.63E+00</td>\n",
       "      <td>4.88E+00</td>\n",
       "      <td>3.62E+00</td>\n",
       "      <td>2.97E+00</td>\n",
       "      <td>2.25E+00</td>\n",
       "      <td>9.68E-01</td>\n",
       "      <td>7.72E-01</td>\n",
       "      <td>140</td>\n",
       "      <td>118.384</td>\n",
       "    </tr>\n",
       "    <tr>\n",
       "      <th>2</th>\n",
       "      <td>2000</td>\n",
       "      <td>9</td>\n",
       "      <td>14</td>\n",
       "      <td>14</td>\n",
       "      <td>13</td>\n",
       "      <td>20</td>\n",
       "      <td>43.7662</td>\n",
       "      <td>-66.3938</td>\n",
       "      <td>13.65</td>\n",
       "      <td>32.2</td>\n",
       "      <td>...</td>\n",
       "      <td>7.15E-02</td>\n",
       "      <td>5.67E+00</td>\n",
       "      <td>4.92E+00</td>\n",
       "      <td>3.65E+00</td>\n",
       "      <td>3.03E+00</td>\n",
       "      <td>2.28E+00</td>\n",
       "      <td>1.02E+00</td>\n",
       "      <td>7.78E-01</td>\n",
       "      <td>140</td>\n",
       "      <td>116.894</td>\n",
       "    </tr>\n",
       "    <tr>\n",
       "      <th>3</th>\n",
       "      <td>2000</td>\n",
       "      <td>9</td>\n",
       "      <td>14</td>\n",
       "      <td>14</td>\n",
       "      <td>16</td>\n",
       "      <td>23</td>\n",
       "      <td>43.7641</td>\n",
       "      <td>-66.4145</td>\n",
       "      <td>14.37</td>\n",
       "      <td>32.26</td>\n",
       "      <td>...</td>\n",
       "      <td>6.73E-02</td>\n",
       "      <td>5.72E+00</td>\n",
       "      <td>4.96E+00</td>\n",
       "      <td>3.68E+00</td>\n",
       "      <td>3.10E+00</td>\n",
       "      <td>2.31E+00</td>\n",
       "      <td>1.07E+00</td>\n",
       "      <td>7.90E-01</td>\n",
       "      <td>140</td>\n",
       "      <td>115.158</td>\n",
       "    </tr>\n",
       "    <tr>\n",
       "      <th>4</th>\n",
       "      <td>2000</td>\n",
       "      <td>9</td>\n",
       "      <td>14</td>\n",
       "      <td>14</td>\n",
       "      <td>19</td>\n",
       "      <td>20</td>\n",
       "      <td>43.7626</td>\n",
       "      <td>-66.4351</td>\n",
       "      <td>14.69</td>\n",
       "      <td>32.31</td>\n",
       "      <td>...</td>\n",
       "      <td>6.45E-02</td>\n",
       "      <td>5.71E+00</td>\n",
       "      <td>4.94E+00</td>\n",
       "      <td>3.66E+00</td>\n",
       "      <td>3.06E+00</td>\n",
       "      <td>2.29E+00</td>\n",
       "      <td>1.02E+00</td>\n",
       "      <td>7.83E-01</td>\n",
       "      <td>140</td>\n",
       "      <td>116.57</td>\n",
       "    </tr>\n",
       "  </tbody>\n",
       "</table>\n",
       "<p>5 rows × 64 columns</p>\n",
       "</div>"
      ],
      "text/plain": [
       "   year month day hour minute second      lat       lon     Wt    sal  \\\n",
       "0  2000     9  14   14      6     58    43.77  -66.3495   13.2  31.88   \n",
       "1  2000     9  14   14     10     14  43.7681  -66.3727   13.7  32.23   \n",
       "2  2000     9  14   14     13     20  43.7662  -66.3938  13.65   32.2   \n",
       "3  2000     9  14   14     16     23  43.7641  -66.4145  14.37  32.26   \n",
       "4  2000     9  14   14     19     20  43.7626  -66.4351  14.69  32.31   \n",
       "\n",
       "    ...      lt683.9 lsky412.7 lsky444.2 lsky488.9 lsky510.7 lsky554.7  \\\n",
       "0   ...     7.20E-02  5.56E+00  4.82E+00  3.57E+00  2.91E+00  2.21E+00   \n",
       "1   ...     7.03E-02  5.63E+00  4.88E+00  3.62E+00  2.97E+00  2.25E+00   \n",
       "2   ...     7.15E-02  5.67E+00  4.92E+00  3.65E+00  3.03E+00  2.28E+00   \n",
       "3   ...     6.73E-02  5.72E+00  4.96E+00  3.68E+00  3.10E+00  2.31E+00   \n",
       "4   ...     6.45E-02  5.71E+00  4.94E+00  3.66E+00  3.06E+00  2.29E+00   \n",
       "\n",
       "  lsky671.1 lsky683.5 senz    relaz  \n",
       "0  9.20E-01  7.62E-01  140   119.27  \n",
       "1  9.68E-01  7.72E-01  140  118.384  \n",
       "2  1.02E+00  7.78E-01  140  116.894  \n",
       "3  1.07E+00  7.90E-01  140  115.158  \n",
       "4  1.02E+00  7.83E-01  140   116.57  \n",
       "\n",
       "[5 rows x 64 columns]"
      ]
     },
     "execution_count": 10,
     "metadata": {},
     "output_type": "execute_result"
    }
   ],
   "source": [
    "df.head()"
   ]
  },
  {
   "cell_type": "code",
   "execution_count": 11,
   "metadata": {
    "collapsed": false
   },
   "outputs": [
    {
     "data": {
      "text/plain": [
       "(152, 64)"
      ]
     },
     "execution_count": 11,
     "metadata": {},
     "output_type": "execute_result"
    }
   ],
   "source": [
    "df.shape"
   ]
  },
  {
   "cell_type": "code",
   "execution_count": null,
   "metadata": {
    "collapsed": true
   },
   "outputs": [],
   "source": []
  }
 ],
 "metadata": {
  "kernelspec": {
   "display_name": "Python 3",
   "language": "python",
   "name": "python3"
  },
  "language_info": {
   "codemirror_mode": {
    "name": "ipython",
    "version": 3
   },
   "file_extension": ".py",
   "mimetype": "text/x-python",
   "name": "python",
   "nbconvert_exporter": "python",
   "pygments_lexer": "ipython3",
   "version": "3.5.1"
  }
 },
 "nbformat": 4,
 "nbformat_minor": 0
}
